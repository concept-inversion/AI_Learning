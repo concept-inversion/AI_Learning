{
 "cells": [
  {
   "cell_type": "code",
   "execution_count": 15,
   "metadata": {},
   "outputs": [
    {
     "name": "stdout",
     "output_type": "stream",
     "text": [
      "Method: (A==B).all(),   \n",
      "Method: np.array_equal(A,B),\n",
      "Method: np.array_equiv(A,B),\n"
     ]
    },
    {
     "data": {
      "text/plain": [
       "(None, 0.049111740181815834)"
      ]
     },
     "execution_count": 15,
     "metadata": {},
     "output_type": "execute_result"
    }
   ],
   "source": [
    "import numpy as np\n",
    "from copy import deepcopy\n",
    "class Board():\n",
    "    def __init__(self,initial):\n",
    "        self.initial= np.array(initial)\n",
    "        self.board = np.reshape (initial,(-1,3))\n",
    "        print(\"node created\")\n",
    "    \n",
    "    def display(self):\n",
    "        print(self.board )\n",
    "        print(\"new object\")\n",
    "        \n",
    "        a= deepcopy(self)\n",
    "        new = {a,\"left\"}\n",
    "        print(list(new)[0])\n",
    "        for e in new:\n",
    "            print(e)"
   ]
  },
  {
   "cell_type": "code",
   "execution_count": 14,
   "metadata": {},
   "outputs": [
    {
     "name": "stdout",
     "output_type": "stream",
     "text": [
      "node created\n",
      "[[1 2 5]\n",
      " [4 7 6]\n",
      " [8 0 3]]\n",
      "new object\n",
      "<__main__.Board object at 0x000001C310155F98>\n",
      "<__main__.Board object at 0x000001C310155F98>\n",
      "left\n"
     ]
    }
   ],
   "source": [
    "board= Board([1,2,5,4,7,6,8,0,3])\n",
    "board.display()"
   ]
  },
  {
   "cell_type": "code",
   "execution_count": 2,
   "metadata": {},
   "outputs": [
    {
     "name": "stdout",
     "output_type": "stream",
     "text": [
      "queue initialized\n",
      "2\n",
      "3\n",
      "4\n"
     ]
    }
   ],
   "source": [
    "import queue\n",
    "frontier = queue.Queue()\n",
    "frontier.put(2)\n",
    "frontier.put(3)\n",
    "frontier.put(4)\n",
    "print(\"queue initialized\")\n",
    "explored = {}\n",
    "result = 0\n",
    "\n",
    "while not frontier.empty():\n",
    "    state = frontier.get()\n",
    "    print(state)"
   ]
  },
  {
   "cell_type": "code",
   "execution_count": null,
   "metadata": {},
   "outputs": [],
   "source": [
    "s = []\n",
    "\n",
    "for each in s:\n",
    "    print(\"sad\")"
   ]
  }
 ],
 "metadata": {
  "kernelspec": {
   "display_name": "Python 3",
   "language": "python",
   "name": "python3"
  },
  "language_info": {
   "codemirror_mode": {
    "name": "ipython",
    "version": 3
   },
   "file_extension": ".py",
   "mimetype": "text/x-python",
   "name": "python",
   "nbconvert_exporter": "python",
   "pygments_lexer": "ipython3",
   "version": "3.6.4"
  }
 },
 "nbformat": 4,
 "nbformat_minor": 2
}
